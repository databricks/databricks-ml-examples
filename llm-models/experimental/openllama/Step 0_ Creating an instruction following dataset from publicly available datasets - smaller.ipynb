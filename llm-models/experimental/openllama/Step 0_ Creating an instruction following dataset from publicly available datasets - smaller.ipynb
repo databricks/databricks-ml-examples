{
 "cells": [
  {
   "cell_type": "code",
   "execution_count": 0,
   "metadata": {
    "application/vnd.databricks.v1+cell": {
     "cellMetadata": {
      "byteLimit": 2048000,
      "rowLimit": 10000
     },
     "inputWidgets": {},
     "nuid": "922148d7-166e-4e51-8782-19f125df220e",
     "showTitle": false,
     "title": ""
    }
   },
   "outputs": [],
   "source": [
    "#Datasets used here:\n",
    "# mosaicml/dolly_hhrlhf\n",
    "# b-mc2/sql-create-context (only a ~4.2k subset)\n",
    "# code alpaca 20k -cc license\n",
    "# qwedsacf/grade-school-math-instructions - not using because it's in HELM, decided to use it because no point benchmarking"
   ]
  },
  {
   "cell_type": "code",
   "execution_count": 0,
   "metadata": {
    "application/vnd.databricks.v1+cell": {
     "cellMetadata": {
      "byteLimit": 2048000,
      "rowLimit": 10000
     },
     "inputWidgets": {},
     "nuid": "a5b846ec-f5d2-4741-a0de-76e4f74f243d",
     "showTitle": false,
     "title": ""
    }
   },
   "outputs": [],
   "source": [
    "from datasets import load_dataset , Dataset, concatenate_datasets \n",
    "import numpy as np\n",
    "import pandas as pd\n",
    "import random"
   ]
  },
  {
   "cell_type": "code",
   "execution_count": 0,
   "metadata": {
    "application/vnd.databricks.v1+cell": {
     "cellMetadata": {
      "byteLimit": 2048000,
      "rowLimit": 10000
     },
     "inputWidgets": {},
     "nuid": "09ef703e-2fd7-4886-8315-7f2d4b8bea83",
     "showTitle": false,
     "title": ""
    }
   },
   "outputs": [],
   "source": [
    "capaca = load_dataset(\"HuggingFaceH4/CodeAlpaca_20K\")\n",
    "capaca_train_df = pd.DataFrame(capaca['train'])\n",
    "capaca_test_df = pd.DataFrame(capaca['test'])\n",
    "capaca_df = pd.concat([capaca_train_df, capaca_test_df])\n",
    "display(capaca_df)"
   ]
  },
  {
   "cell_type": "code",
   "execution_count": 0,
   "metadata": {
    "application/vnd.databricks.v1+cell": {
     "cellMetadata": {
      "byteLimit": 2048000,
      "rowLimit": 10000
     },
     "inputWidgets": {},
     "nuid": "1b56944f-b86f-481f-ba50-e234de569ebc",
     "showTitle": false,
     "title": ""
    }
   },
   "outputs": [],
   "source": [
    "template = \"\"\"Below is an instruction that describes a task. Write a response that appropriately completes the request.\n",
    "\n",
    "### Instruction:\n",
    "{}\n",
    "\n",
    "### Response:\\n\"\"\"\n",
    "capaca_df['prompt'] = capaca_df[\"prompt\"].apply(lambda x: template.format(x))\n",
    "\n",
    "capaca_df.rename(columns={'completion': 'response'}, inplace=True)\n",
    "capaca_df = capaca_df[['prompt', 'response']]\n",
    "display(capaca_df)"
   ]
  },
  {
   "cell_type": "code",
   "execution_count": 0,
   "metadata": {
    "application/vnd.databricks.v1+cell": {
     "cellMetadata": {
      "byteLimit": 2048000,
      "rowLimit": 10000
     },
     "inputWidgets": {},
     "nuid": "6da6aeb2-6ba6-47e6-8cb3-4a71a1a3791c",
     "showTitle": false,
     "title": ""
    }
   },
   "outputs": [],
   "source": [
    "drhlf = load_dataset(\"mosaicml/dolly_hhrlhf\")\n",
    "drlhf_train_df = pd.DataFrame(drhlf['train'])\n",
    "drlhf_test_df = pd.DataFrame(drhlf['test'])\n",
    "drlhf_df = pd.concat([drlhf_train_df, drlhf_test_df])\n",
    "drlhf_df.drop_duplicates(inplace=True)\n",
    "display(drlhf_df), drlhf_df.shape\n"
   ]
  },
  {
   "cell_type": "code",
   "execution_count": 0,
   "metadata": {
    "application/vnd.databricks.v1+cell": {
     "cellMetadata": {
      "byteLimit": 2048000,
      "rowLimit": 10000
     },
     "inputWidgets": {},
     "nuid": "aa8b1205-c9e0-4ea1-a35f-6840414acb3d",
     "showTitle": false,
     "title": ""
    }
   },
   "outputs": [],
   "source": [
    "text_to_sql = load_dataset(\"b-mc2/sql-create-context\")\n",
    "txsql_df = pd.DataFrame(text_to_sql)\n",
    "display(txsql_df)"
   ]
  },
  {
   "cell_type": "code",
   "execution_count": 0,
   "metadata": {
    "application/vnd.databricks.v1+cell": {
     "cellMetadata": {
      "byteLimit": 2048000,
      "rowLimit": 10000
     },
     "inputWidgets": {},
     "nuid": "ca42375a-77a7-4813-9b8e-f0e3393381ab",
     "showTitle": false,
     "title": ""
    }
   },
   "outputs": [],
   "source": [
    "import json \n",
    "dsdf_ = pd.json_normalize(txsql_df['train'])\n",
    "#Dropping all examples where no definite table name is given i.e. most of WikiSQL\n",
    "dsdf_ = dsdf_[~dsdf_['answer'].str.contains('FROM table_')]\n",
    "dsdf_.drop_duplicates(inplace=True)\n",
    "display(dsdf_), dsdf_.shape"
   ]
  },
  {
   "cell_type": "code",
   "execution_count": 0,
   "metadata": {
    "application/vnd.databricks.v1+cell": {
     "cellMetadata": {
      "byteLimit": 2048000,
      "rowLimit": 10000
     },
     "inputWidgets": {},
     "nuid": "7c9f26fc-d2ed-4e0b-9874-91af56d91ffa",
     "showTitle": false,
     "title": ""
    }
   },
   "outputs": [],
   "source": [
    "dsdf_['question'] = 'Generate SQL query: '+ dsdf_['question']\n",
    "dsdf_['context'] = dsdf_['context'].apply(lambda x: x.replace(\"CREATE TABLE\", \"\").replace(\"VARCHAR\", \"STRING\").strip())\n",
    "dsdf_['Instruction'] = dsdf_['question']+ ', given the following schema: ' + dsdf_['context']\n",
    "dsdf_.drop(columns=['question', 'context'], inplace=True)\n",
    "display(dsdf_)"
   ]
  },
  {
   "cell_type": "code",
   "execution_count": 0,
   "metadata": {
    "application/vnd.databricks.v1+cell": {
     "cellMetadata": {
      "byteLimit": 2048000,
      "rowLimit": 10000
     },
     "inputWidgets": {},
     "nuid": "23111d2e-f886-4b80-b74b-e020a37106d4",
     "showTitle": false,
     "title": ""
    }
   },
   "outputs": [],
   "source": [
    "template = \"\"\"Below is an instruction that describes a task. Write a response that appropriately completes the request.\n",
    "\n",
    "### Instruction:\n",
    "{}\n",
    "\n",
    "### Response:\\n\"\"\""
   ]
  },
  {
   "cell_type": "code",
   "execution_count": 0,
   "metadata": {
    "application/vnd.databricks.v1+cell": {
     "cellMetadata": {
      "byteLimit": 2048000,
      "rowLimit": 10000
     },
     "inputWidgets": {},
     "nuid": "674b65cf-3445-4b4c-b369-470a9283b5c6",
     "showTitle": false,
     "title": ""
    }
   },
   "outputs": [],
   "source": [
    "dsdf_['prompt'] = dsdf_[\"Instruction\"].apply(lambda x: template.format(x))"
   ]
  },
  {
   "cell_type": "code",
   "execution_count": 0,
   "metadata": {
    "application/vnd.databricks.v1+cell": {
     "cellMetadata": {
      "byteLimit": 2048000,
      "rowLimit": 10000
     },
     "inputWidgets": {},
     "nuid": "2523b5c7-b3cd-4b80-8bc4-c1bfcf9b6f49",
     "showTitle": false,
     "title": ""
    }
   },
   "outputs": [],
   "source": [
    "display(dsdf_), dsdf_.shape"
   ]
  },
  {
   "cell_type": "code",
   "execution_count": 0,
   "metadata": {
    "application/vnd.databricks.v1+cell": {
     "cellMetadata": {
      "byteLimit": 2048000,
      "rowLimit": 10000
     },
     "inputWidgets": {},
     "nuid": "16e3a0be-5657-4706-9461-4588d7f2f3de",
     "showTitle": false,
     "title": ""
    }
   },
   "outputs": [],
   "source": [
    "dsdf_.drop(columns = ['Instruction'], inplace=True)\n",
    "dsdf_.rename(columns={'answer': 'response'}, inplace=True)\n",
    "dsdf_ = dsdf_[['prompt', 'response']]\n",
    "display(dsdf_)"
   ]
  },
  {
   "cell_type": "code",
   "execution_count": 0,
   "metadata": {
    "application/vnd.databricks.v1+cell": {
     "cellMetadata": {
      "byteLimit": 2048000,
      "rowLimit": 10000
     },
     "inputWidgets": {},
     "nuid": "b54e5d7d-5ec1-48b8-a5b8-4b42e223ed47",
     "showTitle": false,
     "title": ""
    }
   },
   "outputs": [],
   "source": [
    "#qwedsacf/grade-school-math-instructions\n",
    "mathinstr = load_dataset(\"qwedsacf/grade-school-math-instructions\")\n",
    "mathinstr_df = pd.DataFrame(mathinstr['train'])\n",
    "template = \"\"\"Below is an instruction that describes a task. Write a response that appropriately completes the request.\n",
    "\n",
    "### Instruction:\n",
    "{}\n",
    "\n",
    "### Response:\\n\"\"\"\n",
    "mathinstr_df['prompt'] = mathinstr_df[\"INSTRUCTION\"].apply(lambda x: template.format(x))\n",
    "\n",
    "mathinstr_df.drop(columns = ['INSTRUCTION','SOURCE'], inplace=True)\n",
    "mathinstr_df.rename(columns={'RESPONSE': 'response'}, inplace=True)\n",
    "mathinstr_df = mathinstr_df[['prompt', 'response']]\n",
    "display(mathinstr_df)"
   ]
  },
  {
   "cell_type": "code",
   "execution_count": 0,
   "metadata": {
    "application/vnd.databricks.v1+cell": {
     "cellMetadata": {
      "byteLimit": 2048000,
      "rowLimit": 10000
     },
     "inputWidgets": {},
     "nuid": "f8fe1b16-e0c2-42b4-8f66-e000cc93030e",
     "showTitle": false,
     "title": ""
    }
   },
   "outputs": [],
   "source": [
    "dolly_llama_df = pd.concat([drlhf_df, mathinstr_df, capaca_df, dsdf_ ], ignore_index=True).sample(frac=1, random_state=42)\n",
    "dolly_llama_df.drop_duplicates(inplace=True)\n",
    "dolly_llama_df.shape"
   ]
  },
  {
   "cell_type": "code",
   "execution_count": 0,
   "metadata": {
    "application/vnd.databricks.v1+cell": {
     "cellMetadata": {
      "byteLimit": 2048000,
      "rowLimit": 10000
     },
     "inputWidgets": {},
     "nuid": "63bf855e-94ba-41fd-888a-53d15e8c1238",
     "showTitle": false,
     "title": ""
    }
   },
   "outputs": [],
   "source": [
    "dolly_llama_df['response'] = dolly_llama_df['response'] +  \"\\n### End\""
   ]
  },
  {
   "cell_type": "code",
   "execution_count": 0,
   "metadata": {
    "application/vnd.databricks.v1+cell": {
     "cellMetadata": {
      "byteLimit": 2048000,
      "rowLimit": 10000
     },
     "inputWidgets": {},
     "nuid": "32ae2083-f008-4e42-86d9-8712d8b3c70f",
     "showTitle": false,
     "title": ""
    }
   },
   "outputs": [],
   "source": [
    "dolly_llama_df.drop_duplicates(inplace=True)\n",
    "display(dolly_llama_df), dolly_llama_df.shape"
   ]
  },
  {
   "cell_type": "code",
   "execution_count": 0,
   "metadata": {
    "application/vnd.databricks.v1+cell": {
     "cellMetadata": {
      "byteLimit": 2048000,
      "implicitDf": true,
      "rowLimit": 10000
     },
     "inputWidgets": {},
     "nuid": "f9543ddd-080d-4e79-8b13-e116bf3a8ed8",
     "showTitle": false,
     "title": ""
    }
   },
   "outputs": [],
   "source": [
    "%sql\n",
    "CREATE DATABASE IF NOT EXISTS dolly_llama;\n",
    "USE dolly_llama;"
   ]
  },
  {
   "cell_type": "code",
   "execution_count": 0,
   "metadata": {
    "application/vnd.databricks.v1+cell": {
     "cellMetadata": {
      "byteLimit": 2048000,
      "implicitDf": true,
      "rowLimit": 10000
     },
     "inputWidgets": {},
     "nuid": "8a540d8d-f942-4b04-b116-7cb52d3b6906",
     "showTitle": false,
     "title": ""
    }
   },
   "outputs": [],
   "source": [
    "%sql\n",
    "DROP TABLE dolly_llama_instruct;"
   ]
  },
  {
   "cell_type": "code",
   "execution_count": 0,
   "metadata": {
    "application/vnd.databricks.v1+cell": {
     "cellMetadata": {
      "byteLimit": 2048000,
      "rowLimit": 10000
     },
     "inputWidgets": {},
     "nuid": "aa60444c-fed5-4a52-b146-d7b431177d7e",
     "showTitle": false,
     "title": ""
    }
   },
   "outputs": [],
   "source": [
    "spark.createDataFrame(dolly_llama_df).write.saveAsTable('dolly_llama_instruct')"
   ]
  },
  {
   "cell_type": "code",
   "execution_count": 0,
   "metadata": {
    "application/vnd.databricks.v1+cell": {
     "cellMetadata": {
      "byteLimit": 2048000,
      "implicitDf": true,
      "rowLimit": 10000
     },
     "inputWidgets": {},
     "nuid": "09919fed-b991-4f5f-a191-a5d6cf4c2650",
     "showTitle": false,
     "title": ""
    }
   },
   "outputs": [],
   "source": [
    "%sql\n",
    "SELECT * FROM dolly_llama_instruct"
   ]
  }
 ],
 "metadata": {
  "application/vnd.databricks.v1+notebook": {
   "dashboards": [],
   "language": "python",
   "notebookMetadata": {
    "mostRecentlyExecutedCommandWithImplicitDF": {
     "commandId": 3399008354392088,
     "dataframes": [
      "_sqldf"
     ]
    },
    "pythonIndentUnit": 2
   },
   "notebookName": "Step 0_ Creating an instruction following dataset from publicly available datasets - smaller",
   "widgets": {}
  }
 },
 "nbformat": 4,
 "nbformat_minor": 0
}
